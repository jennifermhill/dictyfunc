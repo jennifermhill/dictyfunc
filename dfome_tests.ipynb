{
 "cells": [
  {
   "cell_type": "code",
   "execution_count": 1,
   "metadata": {},
   "outputs": [],
   "source": [
    "import sys, os, zarr\n",
    "sys.path.insert(0,'Y:\\\\jennifer\\\\cryolite')\n",
    "import dfome as df"
   ]
  },
  {
   "cell_type": "code",
   "execution_count": 4,
   "metadata": {},
   "outputs": [],
   "source": [
    "os.chdir('Y:\\\\jennifer\\\\cryolite\\\\cryolite_mixin_test65_2024-04-16\\\\WS205_overnight_day2')\n",
    "zarr_file = '2024-04-17_ERH_mixin65_plate2_WS205_overnight_day2_ERH Red FarRed.zarr'"
   ]
  },
  {
   "cell_type": "code",
   "execution_count": null,
   "metadata": {},
   "outputs": [],
   "source": [
    "def createAnalysisGroup(zarr_file):\n",
    "\n",
    "    nestedStore = zarr.NestedDirectoryStore(zarr_file, dimension_separator='/')\n",
    "    root = zarr.group(store=nestedStore, overwrite=False)\n",
    "\n",
    "    if 'analysis' in root:\n",
    "        anlaysisGroup = root['analysis']\n",
    "    else:\n",
    "        analysisGroup = root.create_group('analysis')"
   ]
  },
  {
   "cell_type": "code",
   "execution_count": null,
   "metadata": {},
   "outputs": [],
   "source": []
  }
 ],
 "metadata": {
  "kernelspec": {
   "display_name": "napari",
   "language": "python",
   "name": "python3"
  },
  "language_info": {
   "codemirror_mode": {
    "name": "ipython",
    "version": 3
   },
   "file_extension": ".py",
   "mimetype": "text/x-python",
   "name": "python",
   "nbconvert_exporter": "python",
   "pygments_lexer": "ipython3",
   "version": "3.12.9"
  }
 },
 "nbformat": 4,
 "nbformat_minor": 2
}
