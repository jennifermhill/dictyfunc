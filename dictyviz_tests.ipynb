{
 "cells": [
  {
   "cell_type": "code",
   "execution_count": 1,
   "metadata": {},
   "outputs": [],
   "source": [
    "import sys, os, zarr, importlib\n",
    "sys.path.insert(0,'Y:\\\\jennifer\\\\cryolite\\\\dvome')\n",
    "import dictyviz as dv"
   ]
  },
  {
   "cell_type": "code",
   "execution_count": null,
   "metadata": {},
   "outputs": [],
   "source": [
    "os.chdir('Y:\\\\jennifer\\\\cryolite\\\\cryolite_mixin_test65_2024-04-16\\\\WS205_overnight_day2')\n",
    "zarrFile = '2024-04-17_ERH_mixin65_plate2_WS205_overnight_day2_ERH Red FarRed_crop2.zarr'\n",
    "\n",
    "# define channels\n",
    "cells = 0\n",
    "rocks = 1"
   ]
  },
  {
   "cell_type": "code",
   "execution_count": null,
   "metadata": {},
   "outputs": [
    {
     "data": {
      "text/plain": [
       "<zarr.hierarchy.Group '/analysis'>"
      ]
     },
     "execution_count": 11,
     "metadata": {},
     "output_type": "execute_result"
    }
   ],
   "source": [
    "dv.createRootStore(zarrFile)\n",
    "root = zarr.open(zarrFile, mode='r+')\n",
    "\n",
    "dv.createZarrGroup(root, 'analysis')\n"
   ]
  },
  {
   "cell_type": "code",
   "execution_count": null,
   "metadata": {},
   "outputs": [
    {
     "name": "stderr",
     "output_type": "stream",
     "text": [
      "100%|██████████| 139/139 [37:04<00:00, 16.01s/it]"
     ]
    },
    {
     "name": "stdout",
     "output_type": "stream",
     "text": [
      "Max projections calculated\n"
     ]
    },
    {
     "name": "stderr",
     "output_type": "stream",
     "text": [
      "\n"
     ]
    }
   ],
   "source": [
    "dv.calcMaxProjections(root, res_lvl=0)\n",
    "#dv.calcSlicedMaxProjections(root, cells, res_lvl=0)\n",
    "print('Max projections calculated')"
   ]
  },
  {
   "cell_type": "code",
   "execution_count": null,
   "metadata": {},
   "outputs": [],
   "source": [
    "dv.createZarrGroup(root, 'movies')\n",
    "os.chdir(zarrFile + '\\\\movies')\n",
    "scaleMax = 10000"
   ]
  },
  {
   "cell_type": "code",
   "execution_count": null,
   "metadata": {},
   "outputs": [
    {
     "name": "stderr",
     "output_type": "stream",
     "text": [
      "100%|██████████| 139/139 [03:11<00:00,  1.38s/it]\n",
      "100%|██████████| 139/139 [03:14<00:00,  1.40s/it]"
     ]
    },
    {
     "name": "stdout",
     "output_type": "stream",
     "text": [
      "Ortho max videos created\n"
     ]
    },
    {
     "name": "stderr",
     "output_type": "stream",
     "text": [
      "\n"
     ]
    }
   ],
   "source": [
    "\n",
    "dv.makeOrthoMaxVideo('cells_orthomax3.avi', root, cells, 10000)\n",
    "dv.makeOrthoMaxVideo('rocks_orthomax3.avi', root, rocks, 60000)\n",
    "# dv.makeSlicedOrthoMaxVideos('cells_sliced_orthomax.avi', root, scaleMax)\n",
    "print('Ortho max videos created')"
   ]
  },
  {
   "cell_type": "code",
   "execution_count": null,
   "metadata": {},
   "outputs": [],
   "source": []
  }
 ],
 "metadata": {
  "kernelspec": {
   "display_name": "dictyviz",
   "language": "python",
   "name": "python3"
  },
  "language_info": {
   "codemirror_mode": {
    "name": "ipython",
    "version": 3
   },
   "file_extension": ".py",
   "mimetype": "text/x-python",
   "name": "python",
   "nbconvert_exporter": "python",
   "pygments_lexer": "ipython3",
   "version": "3.12.9"
  }
 },
 "nbformat": 4,
 "nbformat_minor": 2
}
